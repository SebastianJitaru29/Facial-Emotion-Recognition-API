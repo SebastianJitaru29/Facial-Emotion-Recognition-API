{
  "cells": [
    {
      "cell_type": "markdown",
      "metadata": {
        "id": "view-in-github",
        "colab_type": "text"
      },
      "source": [
        "<a href=\"https://colab.research.google.com/github/SebastianJitaru29/TFG/blob/main/EmotionRecognitionModel_TFG.ipynb\" target=\"_parent\"><img src=\"https://colab.research.google.com/assets/colab-badge.svg\" alt=\"Open In Colab\"/></a>"
      ]
    },
    {
      "cell_type": "markdown",
      "metadata": {
        "id": "IuizZ3CbKPsP"
      },
      "source": [
        "Introduction\n",
        "\n",
        "This notebook's aim is to develop the facial emotion recognition model for my Bachelor's Thesis.\n",
        "\n",
        "The dataset consists of 28709 training and 3589 testing images, classified in 7 different emotions: surprise, sadness, neutral, anger, happines, fear and disgust"
      ]
    },
    {
      "cell_type": "markdown",
      "metadata": {
        "id": "o12eUOVVOP5v"
      },
      "source": [
        "\n",
        "DEPENDENCIES\n"
      ]
    },
    {
      "cell_type": "code",
      "execution_count": 1,
      "metadata": {
        "id": "sy_hmMFkKEQ2"
      },
      "outputs": [],
      "source": [
        "import copy\n",
        "import matplotlib.cm as cm\n",
        "import matplotlib.pyplot as plt\n",
        "import numpy as np\n",
        "import os\n",
        "import pandas as pd\n",
        "\n",
        "from google.colab import drive\n",
        "from os import sep\n",
        "\n",
        "from sklearn.metrics import confusion_matrix\n",
        "import itertools\n",
        "\n",
        "import tensorflow as tf\n",
        "\n",
        "\n"
      ]
    },
    {
      "cell_type": "markdown",
      "metadata": {
        "id": "UNJZwZaxUu-H"
      },
      "source": [
        "PRESETS\n",
        "\n",
        "Importing the data into the environment\n"
      ]
    },
    {
      "cell_type": "code",
      "execution_count": 2,
      "metadata": {
        "colab": {
          "base_uri": "https://localhost:8080/"
        },
        "id": "76xumNefUT2D",
        "outputId": "aede199a-2ca9-46b8-f681-312984c1f820"
      },
      "outputs": [
        {
          "output_type": "stream",
          "name": "stdout",
          "text": [
            "\u001b[0m\u001b[01;32manscombe.json\u001b[0m*               california_housing_train.csv  mnist_train_small.csv\n",
            "california_housing_test.csv  mnist_test.csv                \u001b[01;32mREADME.md\u001b[0m*\n"
          ]
        }
      ],
      "source": [
        "%ls sample_data/\n",
        "dow=True"
      ]
    },
    {
      "cell_type": "code",
      "execution_count": 3,
      "metadata": {
        "colab": {
          "base_uri": "https://localhost:8080/"
        },
        "id": "SrK6CIObUymX",
        "outputId": "8281c011-ad92-414a-b99c-210a3db8f37a"
      },
      "outputs": [
        {
          "output_type": "stream",
          "name": "stdout",
          "text": [
            "drive/MyDrive/TFG/face_expresion/train/\n",
            "Mounted at /content/drive\n",
            "emotion-detection-fer.zip  kaggle.json  \u001b[0m\u001b[01;34mtest\u001b[0m/  \u001b[01;34mtrain\u001b[0m/\n",
            "/content/drive/MyDrive/TFG/face_expresion\n"
          ]
        }
      ],
      "source": [
        "if dow:\n",
        "  PROJECT_NAME='face_expresion'\n",
        "\n",
        "  PROJECT_ROUTE= 'drive' + sep + \"MyDrive\" + sep + 'TFG' + sep + PROJECT_NAME + sep\n",
        "\n",
        "  PATH_ALL = ''\n",
        "\n",
        "  PATH_TRAIN = PROJECT_ROUTE + 'train' + sep\n",
        "  print(PATH_TRAIN)\n",
        "  PATH_TEST = PROJECT_ROUTE + 'test' + sep\n",
        "\n",
        "  drive.mount('/content/drive')\n",
        "\n",
        "  %ls $PROJECT_ROUTE\n",
        "\n",
        "  %cd $PROJECT_ROUTE\n"
      ]
    },
    {
      "cell_type": "code",
      "execution_count": null,
      "metadata": {
        "id": "ZrmjE17NaU35"
      },
      "outputs": [],
      "source": [
        "if dow:\n",
        "  !ls -1"
      ]
    },
    {
      "cell_type": "code",
      "execution_count": null,
      "metadata": {
        "id": "IRDpydoIceF5"
      },
      "outputs": [],
      "source": [
        "if dow:\n",
        "  %ls\n",
        "  !pip install -q kaggle\n",
        "  !mkdir -p ~/.kaggle\n",
        "  !cp kaggle.json ~/.kaggle/\n",
        "  !chmod 600 ~/.kaggle/kaggle.json"
      ]
    },
    {
      "cell_type": "code",
      "execution_count": null,
      "metadata": {
        "id": "AYb6KNGGeom1"
      },
      "outputs": [],
      "source": [
        "if dow:\n",
        "  os.system(\"kaggle datasets download -d ananthu017/emotion-detection-fer\")\n",
        "%ls"
      ]
    },
    {
      "cell_type": "code",
      "execution_count": null,
      "metadata": {
        "id": "w2LdffSTe3xF"
      },
      "outputs": [],
      "source": [
        "if dow:\n",
        "  import zipfile\n",
        "  with zipfile.ZipFile(\"emotion-detection-fer.zip\",\"r\") as zip_ref:\n",
        "    zip_ref.extractall('/content/')"
      ]
    },
    {
      "cell_type": "code",
      "execution_count": null,
      "metadata": {
        "id": "77NLPr_4fpD3"
      },
      "outputs": [],
      "source": [
        "if dow:\n",
        "  %cd '/content/'\n",
        "  %ls"
      ]
    },
    {
      "cell_type": "markdown",
      "metadata": {
        "id": "6HVorAtjg5x6"
      },
      "source": [
        "DATA PROCESSING"
      ]
    },
    {
      "cell_type": "code",
      "execution_count": null,
      "metadata": {
        "id": "Ggam6nt-gpyY"
      },
      "outputs": [],
      "source": [
        "ordered_class_names=['surprised','sad','neutral','happy','fearful','disgusted','angry']\n",
        "train_dir= 'train/'\n",
        "validation_dir= 'test/'"
      ]
    },
    {
      "cell_type": "markdown",
      "metadata": {
        "id": "u7Rxt9b_pQR-"
      },
      "source": [
        "![image.png](data:image/png;base64,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)"
      ]
    },
    {
      "cell_type": "code",
      "execution_count": null,
      "metadata": {
        "id": "ERzf9-Aiqn4X"
      },
      "outputs": [],
      "source": [
        "from PIL import Image\n",
        "import matplotlib.pyplot as plt\n",
        "\n",
        "img_path = \"test/disgusted/im22.png\"\n",
        "img = Image.open(img_path).convert(\"L\") #open in balck and white\n",
        "img = img.resize((48,48)) # resize image to desired size\n",
        "\n",
        "plt.imshow(img,cmap='gray')\n",
        "plt.axis('on')\n",
        "plt.show('on')"
      ]
    },
    {
      "cell_type": "code",
      "execution_count": null,
      "metadata": {
        "id": "BJDo5QCSq6PN"
      },
      "outputs": [],
      "source": [
        "from tensorflow.keras.preprocessing.image import ImageDataGenerator\n",
        "\n",
        "# Define an ImageDataGenerator object for augmenting training data\n",
        "train_datagen = ImageDataGenerator(\n",
        "    rescale=1./255,         # Rescale pixel values to be in the range [0, 1]\n",
        "    validation_split=0.3,   # Split dataset, allocating 30% of images for validation\n",
        "    rotation_range=10,      # Degree range for random rotations (-10 to 10 degrees)\n",
        "    width_shift_range=0.1,  # Range for random horizontal shifts (-10% to 10% of image width)\n",
        "    height_shift_range=0.2, # Range for random vertical shifts (-20% to 20% of image height)\n",
        "    zoom_range=0.2,         # Range for random zooms (zoom in/out by up to 20%)\n",
        "    shear_range=0.2,        # Range for random shearing transformations\n",
        "    fill_mode='nearest'     # Strategy to fill newly created pixels\n",
        ")\n"
      ]
    },
    {
      "cell_type": "code",
      "execution_count": null,
      "metadata": {
        "id": "iT8OgHmBv2_M"
      },
      "outputs": [],
      "source": [
        "test_datagen = ImageDataGenerator(rescale=1./255, validation_split=0.9, #Large difference betweentrain and test is the reason of the 0.9 validation_split\n",
        ")"
      ]
    },
    {
      "cell_type": "markdown",
      "metadata": {
        "id": "uvlAf5g8wD4k"
      },
      "source": [
        "Data argumentation is applied to the images while we read them from their directorys and these are classifed in grayscale of aize 48x48"
      ]
    },
    {
      "cell_type": "code",
      "execution_count": null,
      "metadata": {
        "id": "U4rvjzx7wU4V"
      },
      "outputs": [],
      "source": [
        "train_generator = train_datagen.flow_from_directory(directory = train_dir,\n",
        "                                                    target_size = (48,48),\n",
        "                                                    batch_size = 64,\n",
        "                                                    color_mode = \"grayscale\",\n",
        "                                                    class_mode = \"categorical\",\n",
        "                                                    subset = \"training\",\n",
        "                                                   )"
      ]
    },
    {
      "cell_type": "code",
      "execution_count": null,
      "metadata": {
        "id": "EfngPnO6w8sG"
      },
      "outputs": [],
      "source": [
        "validation_generator = test_datagen.flow_from_directory( directory = validation_dir,\n",
        "                                                              target_size = (48,48),\n",
        "                                                              batch_size = 64,\n",
        "                                                              color_mode = \"grayscale\",\n",
        "                                                              class_mode = \"categorical\",\n",
        "                                                              subset = \"validation\",\n",
        "                                                              shuffle=False\n",
        "                                                             )"
      ]
    },
    {
      "cell_type": "markdown",
      "metadata": {
        "id": "ABxNxYkLxd3X"
      },
      "source": [
        "Examples of images of the train dataset processed\n",
        "Certainly! Here it is in bullet points:\n",
        "\n",
        "- When using `shear_range` and `fill_mode=nearest`, deformed areas of images become \"pixelated\", which helps to focus more on faces.\n",
        "- Random `zoom_range` is applied to accommodate photos with faces further away.\n",
        "- Rescaling pixels facilitates the training process."
      ]
    },
    {
      "cell_type": "code",
      "execution_count": null,
      "metadata": {
        "id": "C48BQh5WxwWl"
      },
      "outputs": [],
      "source": [
        "import matplotlib.pyplot as plt  # Importing matplotlib for visualization\n",
        "\n",
        "# Create a dictionary to store one image from each class\n",
        "class_images = {}\n",
        "\n",
        "# Iterate over the image generator until we get at least one image from each class\n",
        "for images, labels in train_generator:\n",
        "    # Get the numerical labels of the images\n",
        "    label_indices = labels.argmax(axis=1)\n",
        "\n",
        "    # Iterate over the numerical labels\n",
        "    for i, label_idx in enumerate(label_indices):\n",
        "        # Check if an image from this class has already been obtained\n",
        "        if label_idx not in class_images:\n",
        "            # Get the image and reshape it into a matrix\n",
        "            image = images[i].reshape(48, 48)\n",
        "\n",
        "            # Store the image of the corresponding class\n",
        "            class_images[label_idx] = image\n",
        "\n",
        "    # Check if an image from each class has been obtained\n",
        "    if len(class_images) == len(ordered_class_names):\n",
        "        break\n",
        "\n",
        "# Configure the visualization of images in multiple rows and columns\n",
        "num_images_per_row = 4\n",
        "num_rows = (len(class_images) + num_images_per_row - 1) // num_images_per_row\n",
        "\n",
        "# Create subplots and display the images\n",
        "fig, axes = plt.subplots(num_rows, num_images_per_row, figsize=(12, 3 * num_rows))\n",
        "fig.tight_layout()\n",
        "\n",
        "# Iterate over the class images and display them\n",
        "for idx, (label_idx, image) in enumerate(class_images.items()):\n",
        "    class_name = ordered_class_names[label_idx]\n",
        "    row_idx = idx // num_images_per_row\n",
        "    col_idx = idx % num_images_per_row\n",
        "\n",
        "    axes[row_idx, col_idx].imshow(image, cmap='gray')\n",
        "    axes[row_idx, col_idx].set_title(class_name)\n",
        "    axes[row_idx, col_idx].axis('off')\n",
        "\n",
        "# Hide extra axes and display the plot\n",
        "plt.show()\n"
      ]
    },
    {
      "cell_type": "markdown",
      "metadata": {
        "id": "x0__9Di61w5t"
      },
      "source": [
        "\n",
        "The first phase of the modeling involves creating three convolutional layers to extract features from the input images:\n",
        "\n",
        "- Layer 1 utilizes 8 kernels of size 3x3.\n",
        "- Layer 2 utilizes 16 kernels of size 3x3.\n",
        "- Layer 3 utilizes 32 kernels of size 3x3.\n",
        "\n",
        "The rectified linear unit (ReLU) activation function is applied to the outputs of these layers to introduce non-linearity, aiding in the extraction of meaningful features from the input image data.\n",
        "\n",
        "Additionally, three layers of batch reduction are implemented to reduce the spatial dimensions of the extracted features. Max pooling is employed in these layers, selecting the maximum value within each window of size 2x2. This pooling operation helps in reducing the number of parameters and summarizing the most important characteristics of the extracted features.\n",
        "\n",
        "Following the convolutional layers, a fully connected layer (Dense(64, relu)) with 64 neurons and ReLU activation function is introduced. This layer is tasked with learning the complex relationships within the data and facilitating the classification process.\n",
        "\n",
        "Finally, the output layer (Dense(num_classes, softmax)) comprises 64 neurons and utilizes the softmax activation function. This layer generates a probability distribution for each class, where each value represents the likelihood of the input image belonging to the corresponding class.\n",
        "\n"
      ]
    },
    {
      "cell_type": "markdown",
      "metadata": {
        "id": "X_Ocv6_L5E70"
      },
      "source": [
        "MODEL 1"
      ]
    },
    {
      "cell_type": "code",
      "execution_count": null,
      "metadata": {
        "id": "-Ynocymt3_V_"
      },
      "outputs": [],
      "source": [
        "num_classes = len(ordered_class_names)\n",
        "\n",
        "input_shape = (48,48,1)\n",
        "\n",
        "model1 = tf.keras.Sequential([\n",
        "\n",
        "    # Convolutional layer 1\n",
        "    Conv2D(8, (3, 3), activation='relu', input_shape=input_shape),\n",
        "    MaxPooling2D(pool_size=(2, 2)),\n",
        "\n",
        "    # Convolutional layer 2\n",
        "    Conv2D(16, (3, 3), activation='relu'),\n",
        "    MaxPooling2D(pool_size=(2, 2)),\n",
        "\n",
        "    # Convolutional layer 3\n",
        "    Conv2D(32, (3, 3), activation='relu'),\n",
        "    MaxPooling2D(pool_size=(2, 2)),\n",
        "\n",
        "    # Flatten layer\n",
        "    Flatten(),\n",
        "\n",
        "    # Dense layer 1\n",
        "    Dense(64, activation='relu'),\n",
        "\n",
        "    # Output layer\n",
        "    Dense(num_classes, activation='softmax')\n",
        "])"
      ]
    },
    {
      "cell_type": "markdown",
      "metadata": {
        "id": "QouBI4vr5H5f"
      },
      "source": [
        "MODEL2"
      ]
    },
    {
      "cell_type": "code",
      "execution_count": null,
      "metadata": {
        "id": "k1kk32ct491Y"
      },
      "outputs": [],
      "source": [
        "import tensorflow as tf\n",
        "from tensorflow.keras.models import Sequential\n",
        "from tensorflow.keras.layers import Conv2D, MaxPooling2D, Flatten, Dense, Dropout, BatchNormalization, Activation\n",
        "\n",
        "# Define el número de clases\n",
        "num_classes = len(ordered_class_names)\n",
        "\n",
        "# Define la forma de entrada\n",
        "input_shape = (48, 48, 1)\n",
        "\n",
        "# Crea un modelo secuencial\n",
        "model2 = tf.keras.Sequential([\n",
        "    # Capa de convolución 1\n",
        "    Conv2D(32, (5, 5), padding='same', input_shape=input_shape),  # 32 filtros, tamaño del kernel (5, 5)\n",
        "    Activation('relu'),\n",
        "    BatchNormalization(),\n",
        "\n",
        "    # Capa de convolución 2\n",
        "    Conv2D(32, (5, 5), padding='same',input_shape=input_shape),  # 32 filtros, tamaño del kernel (5, 5)\n",
        "    Activation('relu'),\n",
        "    BatchNormalization(),\n",
        "\n",
        "    # Capa de Max Pooling 1\n",
        "    MaxPooling2D(pool_size=(2, 2)),  # Max Pooling con tamaño de ventana (2, 2)\n",
        "    Dropout(0.25),  # Dropout con tasa de regularización 0.25\n",
        "\n",
        "    # Capa de convolución 3\n",
        "    Conv2D(64, (5, 5), padding='same'),  # 64 filtros, tamaño del kernel (5, 5)\n",
        "    Activation('relu'),\n",
        "    BatchNormalization(),\n",
        "\n",
        "    # Capa de convolución 4\n",
        "    Conv2D(64, (5, 5), padding='same'),  # 64 filtros, tamaño del kernel (5, 5)\n",
        "    Activation('relu'),\n",
        "    BatchNormalization(),\n",
        "\n",
        "    # Capa de Max Pooling 2\n",
        "    MaxPooling2D(pool_size=(2, 2)),  # Max Pooling con tamaño de ventana (2, 2)\n",
        "    Dropout(0.5),  # Dropout con tasa de regularización 0.5\n",
        "\n",
        "    # Capa de convolución 5\n",
        "    Conv2D(128, (3, 3), padding='same'),  # 128 filtros, tamaño del kernel (3, 3)\n",
        "    Activation('relu'),\n",
        "    BatchNormalization(),\n",
        "\n",
        "    # Capa de convolución 6\n",
        "    Conv2D(128, (3, 3), padding='same'),  # 128 filtros, tamaño del kernel (3, 3)\n",
        "    Activation('relu'),\n",
        "    BatchNormalization(),\n",
        "\n",
        "    # Capa de Max Pooling 3\n",
        "    MaxPooling2D(pool_size=(2, 2)),  # Max Pooling con tamaño de ventana (2, 2)\n",
        "    Dropout(0.25),  # Dropout con tasa de regularización 0.25\n",
        "\n",
        "    # Capa de convolución 7\n",
        "    Conv2D(256, (3, 3), padding='same'),  # 256 filtros, tamaño del kernel (3, 3)\n",
        "    Activation('relu'),\n",
        "    BatchNormalization(),\n",
        "\n",
        "    # Capa de convolución 8\n",
        "    Conv2D(256, (3, 3), padding='same'),  # 256 filtros, tamaño del kernel (3, 3)\n",
        "    Activation('relu'),\n",
        "    BatchNormalization(),\n",
        "\n",
        "    # Capa de Max Pooling 4\n",
        "    MaxPooling2D(pool_size=(2, 2)),  # Max Pooling con tamaño de ventana (2, 2)\n",
        "    Dropout(0.25),  # Dropout con tasa de regularización 0.25\n",
        "\n",
        "    # Capa de aplanamiento\n",
        "    Flatten(),\n",
        "\n",
        "    # Capa completamente conectada 1\n",
        "    Dense(512),\n",
        "    Activation('relu'),\n",
        "    BatchNormalization(),\n",
        "    Dropout(0.25),  # Dropout con tasa de regularización 0.25\n",
        "\n",
        "    # Capa completamente conectada 2\n",
        "    Dense(512),\n",
        "    Activation('relu'),\n",
        "    BatchNormalization(),\n",
        "    Dropout(0.5),  # Dropout con tasa de regularización 0.5\n",
        "\n",
        "    # Capa de salida\n",
        "    Dense(num_classes),\n",
        "    Activation('softmax')\n",
        "])\n"
      ]
    },
    {
      "cell_type": "markdown",
      "metadata": {
        "id": "knzx55ORtTB5"
      },
      "source": []
    },
    {
      "cell_type": "markdown",
      "metadata": {
        "id": "wl31tOW9s9VF"
      },
      "source": [
        "MODEL 3"
      ]
    },
    {
      "cell_type": "code",
      "execution_count": null,
      "metadata": {
        "id": "FKy96nm-s5bS"
      },
      "outputs": [],
      "source": [
        "import tensorflow as tf\n",
        "from tensorflow.keras.models import Sequential\n",
        "from tensorflow.keras.layers import Conv2D, MaxPooling2D, Flatten, Dense, Dropout, BatchNormalization, Activation\n",
        "\n",
        "# Define the number of classes\n",
        "n_classes =  len(ordered_class_names)\n",
        "\n",
        "# Define the input shape\n",
        "input_shape = (48, 48, 1)\n",
        "\n",
        "# Create a sequential model\n",
        "model3 = Sequential([\n",
        "    # Layer 1\n",
        "    Conv2D(64, (3, 3), padding='same', input_shape=input_shape),\n",
        "    BatchNormalization(),\n",
        "    Activation('relu'),\n",
        "    MaxPooling2D(pool_size=(2, 2)),\n",
        "    Dropout(0.25),\n",
        "\n",
        "    # Layer 2\n",
        "    Conv2D(128, (5, 5), padding='same'),\n",
        "    BatchNormalization(),\n",
        "    Activation('relu'),\n",
        "    MaxPooling2D(pool_size=(2, 2)),\n",
        "    Dropout(0.25),\n",
        "\n",
        "    # Layer 3\n",
        "    Conv2D(512, (3, 3), padding='same'),\n",
        "    BatchNormalization(),\n",
        "    Activation('relu'),\n",
        "    MaxPooling2D(pool_size=(2, 2)),\n",
        "    Dropout(0.25),\n",
        "\n",
        "    # Layer 4\n",
        "    Conv2D(512, (3, 3), padding='same'),\n",
        "    MaxPooling2D(pool_size=(2, 2)),\n",
        "    Dropout(0.25),\n",
        "\n",
        "    Flatten(),\n",
        "\n",
        "    # FC Layer 1\n",
        "    Dense(256),\n",
        "    BatchNormalization(),\n",
        "    Activation('relu'),\n",
        "    Dropout(0.25),\n",
        "\n",
        "    # FC Layer 2\n",
        "    Dense(512),\n",
        "    BatchNormalization(),\n",
        "    Activation('relu'),\n",
        "    Dropout(0.25),\n",
        "\n",
        "    Dense(n_classes, activation='softmax')\n",
        "])\n"
      ]
    },
    {
      "cell_type": "markdown",
      "metadata": {
        "id": "gKiCoQ_j5Tt9"
      },
      "source": [
        "MODEL1 vs MODEL2 vs MODEL 3 execution"
      ]
    },
    {
      "cell_type": "markdown",
      "metadata": {
        "id": "RFEUamtHs7GU"
      },
      "source": []
    },
    {
      "cell_type": "code",
      "execution_count": null,
      "metadata": {
        "id": "jcfLxCbG5VTr"
      },
      "outputs": [],
      "source": [
        "model1.compile(\n",
        "    optimizer='adam',\n",
        "    loss='categorical_crossentropy', # use this if categorical problem and labels are one-hot encoded\n",
        "    metrics=['accuracy'])\n",
        "\n",
        "\n",
        "model2.compile(\n",
        "    optimizer='adam',\n",
        "    loss='categorical_crossentropy', # use this if categorical problem and labels are one-hot encoded\n",
        "    metrics=['accuracy'])\n",
        "\n"
      ]
    },
    {
      "cell_type": "code",
      "execution_count": null,
      "metadata": {
        "id": "lAIgi6OtuLdm"
      },
      "outputs": [],
      "source": [
        "model3.compile(\n",
        "    optimizer='adam',\n",
        "    loss='categorical_crossentropy',\n",
        "    metrics = ['accuracy']\n",
        ")"
      ]
    },
    {
      "cell_type": "code",
      "execution_count": null,
      "metadata": {
        "collapsed": true,
        "id": "e_QFYyeH5bF5"
      },
      "outputs": [],
      "source": [
        "history_1 = model1.fit(x = train_generator,epochs = 10 ,validation_data = validation_generator)"
      ]
    },
    {
      "cell_type": "code",
      "execution_count": null,
      "metadata": {
        "collapsed": true,
        "id": "iXbnXUgF7KtY"
      },
      "outputs": [],
      "source": [
        "model1.summary()\n",
        "tf.keras.utils.plot_model(model1, show_shapes=True, show_layer_names=True)"
      ]
    },
    {
      "cell_type": "code",
      "execution_count": null,
      "metadata": {
        "collapsed": true,
        "id": "r9a5MXxG7S_x"
      },
      "outputs": [],
      "source": [
        "history_2 = model2.fit(x = train_generator,epochs = 65 ,validation_data = validation_generator)"
      ]
    },
    {
      "cell_type": "code",
      "execution_count": null,
      "metadata": {
        "collapsed": true,
        "id": "KqKVqVpkJCsY"
      },
      "outputs": [],
      "source": [
        "model2.summary()\n",
        "tf.keras.utils.plot_model(model2, show_shapes=True, show_layer_names=True)"
      ]
    },
    {
      "cell_type": "code",
      "execution_count": null,
      "metadata": {
        "id": "ywFFgVI7uSmJ"
      },
      "outputs": [],
      "source": [
        "history_3 = model3.fit(x = train_generator,epochs = 65 ,validation_data = validation_generator)"
      ]
    },
    {
      "cell_type": "code",
      "execution_count": null,
      "metadata": {
        "collapsed": true,
        "id": "SFUztgbT4z_d"
      },
      "outputs": [],
      "source": [
        "model3.summary()\n",
        "tf.keras.utils.plot_model(model3, show_shapes=True, show_layer_names=True)"
      ]
    },
    {
      "cell_type": "code",
      "execution_count": null,
      "metadata": {
        "id": "u_mSvpH7JXDE"
      },
      "outputs": [],
      "source": [
        "fig, ax = plt.subplots(1, 2)\n",
        "\n",
        "train_acc_1 = history_1.history['accuracy']\n",
        "train_loss_1 = history_1.history['loss']\n",
        "fig.set_size_inches(12, 4)\n",
        "\n",
        "ax[0].plot(train_acc_1)\n",
        "ax[0].plot(history_1.history['val_accuracy'])\n",
        "ax[0].set_title('Training vs Validation Accuracy (History 1)')\n",
        "ax[0].set_ylabel('Accuracy')\n",
        "ax[0].set_xlabel('Epoch')\n",
        "ax[0].legend(['Train', 'Validation'], loc='upper left')\n",
        "\n",
        "ax[1].plot(train_loss_1)\n",
        "ax[1].plot(history_1.history['val_loss'])\n",
        "ax[1].set_title('Training vs Validation Loss (History 1)')\n",
        "ax[1].set_ylabel('Loss')\n",
        "ax[1].set_xlabel('Epoch')\n",
        "ax[1].legend(['Train', 'Validation'], loc='upper left')\n",
        "\n",
        "plt.show()\n"
      ]
    },
    {
      "cell_type": "code",
      "execution_count": null,
      "metadata": {
        "id": "gVkMVb44Jct_"
      },
      "outputs": [],
      "source": [
        "fig, ax = plt.subplots(1, 2)\n",
        "\n",
        "train_acc_2 = history_2.history['accuracy']\n",
        "train_loss_2 = history_2.history['loss']\n",
        "fig.set_size_inches(12, 4)\n",
        "\n",
        "ax[0].plot(train_acc_2)\n",
        "ax[0].plot(history_2.history['val_accuracy'])\n",
        "ax[0].set_title('Training vs Validation Accuracy (History 2)')\n",
        "ax[0].set_ylabel('Accuracy')\n",
        "ax[0].set_xlabel('Epoch')\n",
        "ax[0].legend(['Train', 'Validation'], loc='upper left')\n",
        "\n",
        "ax[1].plot(train_loss_2)\n",
        "ax[1].plot(history_2.history['val_loss'])\n",
        "ax[1].set_title('Training vs Validation Loss (History 2)')\n",
        "ax[1].set_ylabel('Loss')\n",
        "ax[1].set_xlabel('Epoch')\n",
        "ax[1].legend(['Train', 'Validation'], loc='upper left')\n",
        "\n",
        "plt.show()"
      ]
    },
    {
      "cell_type": "code",
      "execution_count": null,
      "metadata": {
        "id": "SU4IlUwFJjoh"
      },
      "outputs": [],
      "source": [
        "train_loss1, test_acc1 = model1.evaluate(train_generator)"
      ]
    },
    {
      "cell_type": "code",
      "execution_count": null,
      "metadata": {
        "id": "D2G2xu6cJtjT"
      },
      "outputs": [],
      "source": [
        "train_loss2, test_acc2  = model2.evaluate(train_generator)"
      ]
    },
    {
      "cell_type": "code",
      "execution_count": null,
      "metadata": {
        "id": "xcwA6V5g6H6B"
      },
      "outputs": [],
      "source": [
        "train_loss3, test_acc2 = model3.evaluate(train_generator)"
      ]
    },
    {
      "cell_type": "code",
      "execution_count": null,
      "metadata": {
        "id": "14ThEMGVKOyF"
      },
      "outputs": [],
      "source": [
        "from sklearn.metrics import classification_report, confusion_matrix\n",
        "import seaborn as sns\n",
        "import matplotlib.pyplot as plt\n",
        "\n",
        "model = model3\n",
        "y_pred = np.argmax(model.predict(validation_generator), axis=-1)\n",
        "class_labels = list(validation_generator.class_indices.keys())\n",
        "\n",
        "print(classification_report(validation_generator.classes, y_pred, target_names=class_labels), end='\\n\\n\\n')\n",
        "\n",
        "cm = confusion_matrix(validation_generator.classes, y_pred)\n",
        "plt.figure(figsize=(16, 10))\n",
        "sns.heatmap(cm, cmap=plt.cm.Blues, annot=True, fmt='.0f', xticklabels=class_labels, yticklabels=class_labels)\n",
        "\n",
        "# Agregar etiquetas \"Predicted\" y \"Actual\"\n",
        "plt.xlabel(\"Predicted\")\n",
        "plt.ylabel(\"Actual\")\n",
        "\n",
        "plt.show()"
      ]
    },
    {
      "cell_type": "code",
      "execution_count": null,
      "metadata": {
        "id": "7HsWZi8xKYdr"
      },
      "outputs": [],
      "source": [
        "from sklearn.metrics import roc_auc_score, roc_curve\n",
        "import matplotlib.pyplot as plt\n",
        "from sklearn.preprocessing import LabelBinarizer\n",
        "\n",
        "CLASS_LABELS = ordered_class_names\n",
        "\n",
        "fig, c_ax = plt.subplots(1, 1, figsize=(15, 8))\n",
        "\n",
        "y_pred = model2.predict(validation_generator)\n",
        "def multiclass_roc_auc_score(y_test, y_pred, average=\"macro\"):\n",
        "    lb = LabelBinarizer()\n",
        "    lb.fit(y_test)\n",
        "    y_test = lb.transform(y_test)\n",
        "    for (idx, c_label) in enumerate(CLASS_LABELS):\n",
        "        fpr, tpr, thresholds = roc_curve(y_test[:, idx].astype(int), y_pred[:, idx])\n",
        "        c_ax.plot(fpr, tpr, lw=2, label='%s (AUC:%0.2f)' % (c_label, roc_auc_score(y_test[:, idx], y_pred[:, idx])))\n",
        "    c_ax.plot(fpr, fpr, 'black', linestyle='dashed', lw=4, label='Random Guessing')\n",
        "    return roc_auc_score(y_test, y_pred, average=average)\n",
        "\n",
        "print('ROC AUC score:', multiclass_roc_auc_score(validation_generator.classes, y_pred, average=\"micro\"))\n",
        "plt.xlabel('FALSE POSITIVE RATE', fontsize=18)\n",
        "plt.ylabel('TRUE POSITIVE RATE', fontsize=16)\n",
        "plt.legend(fontsize=11.5)\n",
        "plt.show()"
      ]
    },
    {
      "cell_type": "code",
      "execution_count": null,
      "metadata": {
        "id": "oQNfaJN1vP84"
      },
      "outputs": [],
      "source": [
        "model1_json = model1.to_json()\n",
        "with open(\"model1.json\", 'w') as json_file:\n",
        "    json_file.write(model1_json)\n",
        "model2.save(\"model1.h5\")"
      ]
    },
    {
      "cell_type": "code",
      "execution_count": null,
      "metadata": {
        "id": "NjniAWxoijvC"
      },
      "outputs": [],
      "source": [
        "model2_json = model2.to_json()\n",
        "with open(\"model2.json\", 'w') as json_file:\n",
        "    json_file.write(model2_json)\n",
        "model2.save(\"model2.h5\")"
      ]
    },
    {
      "cell_type": "code",
      "execution_count": null,
      "metadata": {
        "id": "o7JOwaQ-ulb1"
      },
      "outputs": [],
      "source": [
        "model3_json = model3.to_json()\n",
        "with open(\"model3.json\",'w') as json_file:\n",
        "  json_file.write(model3_json)\n",
        "model3.save(\"model3.h5\")"
      ]
    },
    {
      "cell_type": "code",
      "execution_count": null,
      "metadata": {
        "id": "qIJVXfPjvAIr"
      },
      "outputs": [],
      "source": [
        "#pickle and joblib"
      ]
    },
    {
      "cell_type": "code",
      "execution_count": null,
      "metadata": {
        "id": "D_RwUSmk0e79"
      },
      "outputs": [],
      "source": [
        "model2.save(\"emotiondetector.keras\")"
      ]
    },
    {
      "cell_type": "code",
      "execution_count": null,
      "metadata": {
        "id": "ISjNySCr70gi"
      },
      "outputs": [],
      "source": [
        "from PIL import Image\n",
        "import numpy as np\n",
        "\n",
        "img_path = \"test/neutral/im10.png\"\n",
        "img = Image.open(img_path).convert(\"L\")  # Open in black and white\n",
        "img = img.resize((48, 48))  # Resize image to desired size\n",
        "\n",
        "# Convert image to array and normalize\n",
        "img_array = np.array(img) / 255.0\n",
        "\n",
        "# Expand dimensions to match the input shape expected by the model\n",
        "img_array = np.expand_dims(img_array, axis=0)\n",
        "\n",
        "# Make prediction\n",
        "predictions = model2.predict(img_array)\n",
        "\n",
        "# Get the index of the highest probability\n",
        "predicted_class_index = np.argmax(predictions[0])\n",
        "\n",
        "# Display the predicted class\n",
        "emotion_labels = [\"Angry\", \"Disgust\", \"Fear\", \"Happy\", \"Sad\", \"Surprise\", \"Neutral\"]\n",
        "predicted_emotion = emotion_labels[predicted_class_index]\n",
        "print(\"Predicted emotion:\", predicted_emotion)\n"
      ]
    },
    {
      "cell_type": "code",
      "execution_count": null,
      "metadata": {
        "id": "cYwZNYHo8xZJ"
      },
      "outputs": [],
      "source": [
        "from PIL import Image\n",
        "import matplotlib.pyplot as plt\n",
        "\n",
        "img_path = \"test/disgusted/im10.png\"\n",
        "img = Image.open(img_path).convert(\"L\") #open in balck and white\n",
        "img = img.resize((48,48)) # resize image to desired size\n",
        "\n",
        "plt.imshow(img,cmap='gray')\n",
        "plt.axis('on')\n",
        "plt.show('on')"
      ]
    },
    {
      "cell_type": "markdown",
      "metadata": {
        "id": "3lDFUVr_gRxQ"
      },
      "source": [
        "# Video Testing\n",
        "\n",
        "---\n",
        "Now the models will be tested on videos, using model to extract and crop faces from video frames\n"
      ]
    },
    {
      "cell_type": "code",
      "execution_count": null,
      "metadata": {
        "id": "dgrAcFa6pXSl"
      },
      "outputs": [],
      "source": [
        "from google.colab import files\n",
        "\n",
        "# This will open a file upload dialog\n",
        "uploaded = files.upload()\n",
        "\n",
        "# List the uploaded files\n",
        "for filename in uploaded.keys():\n",
        "    print(f'User uploaded file \"{filename}\" with length {len(uploaded[filename])} bytes')\n"
      ]
    },
    {
      "cell_type": "code",
      "execution_count": null,
      "metadata": {
        "id": "5ZrUwPLNgj9B"
      },
      "outputs": [],
      "source": [
        "import cv2\n",
        "#Model to crop face from video frame\n",
        "def load_face_cascade():\n",
        "  haar_file = cv2.data.haarcascades + 'haarcascade_frontalface_default.xml'\n",
        "  face_cascade = cv2.CascadeClassifier(haar_file)\n",
        "  return face_cascade"
      ]
    },
    {
      "cell_type": "code",
      "execution_count": null,
      "metadata": {
        "id": "JbP_dtDWptxi"
      },
      "outputs": [],
      "source": [
        "video_filename= 'my_face_video.mp4'\n",
        "\n",
        "# Open the video file\n",
        "cap = cv2.VideoCapture(video_filename)\n",
        "\n",
        "# Get the frames per second (fps) of the video\n",
        "fps = cap.get(cv2.CAP_PROP_FPS)\n",
        "print(f'Frames per second: {fps}')\n",
        "\n",
        "# Get the total number of frames in the video\n",
        "total_frames = int(cap.get(cv2.CAP_PROP_FRAME_COUNT))\n",
        "print(f'Total frames: {total_frames}')\n",
        "\n",
        "# Get the duration of the video in seconds\n",
        "duration = int(total_frames / fps)\n",
        "print(f'Duration (seconds): {duration}')\n",
        "\n",
        "# Calculate the exact frame numbers to capture one frame per second\n",
        "frame_indices = np.arange(0, duration) * fps\n",
        "print(f'Frame indices: {frame_indices}')\n",
        "\n",
        "extracted_frames = []\n",
        "\n",
        "for frame_idx in frame_indices:\n",
        "    # Set the video position to the specific frame\n",
        "    cap.set(cv2.CAP_PROP_POS_FRAMES, frame_idx)\n",
        "    ret, frame = cap.read()\n",
        "    if not ret:\n",
        "        break\n",
        "    # Convert the frame from BGR (OpenCV default) to RGB (matplotlib)\n",
        "    frame_rgb = cv2.cvtColor(frame, cv2.COLOR_BGR2RGB)\n",
        "    extracted_frames.append(frame_rgb)\n",
        "\n",
        "cap.release()\n",
        "#plot 1 frame\n",
        "frame = extracted_frames[1]\n",
        "#convert image to grayscale\n",
        "frame = cv2.cvtColor(frame,cv2.COLOR_BGR2GRAY)\n",
        "\n",
        "plt.figure(figsize=(5, 5))\n",
        "plt.imshow(frame, cmap='gray')\n",
        "plt.axis('off')\n",
        "plt.title('Frame 0')\n",
        "plt.show()\n",
        "labels = [\"neutral\", \"neutral\", \"happy\",\"happy\",\"happy\",\"surprise\",\"surprise\",\"surprise\",\"angry\",\"angry\",\"angry\",\"angry\",\"angry\",\"angry\"]\n",
        "\n",
        "# Plot the extracted frames\n",
        "num_frames = len(extracted_frames)\n",
        "fig, axes = plt.subplots(1, num_frames, figsize=(15,5))\n",
        "for i, frame in enumerate(extracted_frames):\n",
        "    axes[i].imshow(frame)\n",
        "    axes[i].axis('off')\n",
        "    axes[i].set_title(labels[i])\n",
        "\n",
        "plt.tight_layout()\n",
        "plt.show()\n"
      ]
    },
    {
      "cell_type": "code",
      "execution_count": null,
      "metadata": {
        "id": "VXcAbcscwgLD"
      },
      "outputs": [],
      "source": [
        "#Use face crop model to extract only faces and store them in array which will be inputed to the model\n",
        "face_cascade = cv2.CascadeClassifier(cv2.data.haarcascades + 'haarcascade_frontalface_default.xml')\n",
        "cropped_faces = []\n",
        "\n",
        "for frame in extracted_frames:\n",
        "  gray = cv2.cvtColor(frame,cv2.COLOR_BGR2GRAY)\n",
        "  faces = face_cascade.detectMultiScale(gray, scaleFactor=1.1, minNeighbors=5, minSize=(30, 30))\n",
        "  for (x,y,w,h) in faces:\n",
        "    face = gray[y:y+h,x:x+h]\n",
        "    cropped_faces.append(face)\n",
        "\n",
        "img = cv2.resize(cropped_faces[1],(48,48))\n",
        "plt.figure(figsize=(5,5))\n",
        "plt.imshow(img,cmap='gray')\n",
        "plt.axis('off')\n",
        "plt.show"
      ]
    },
    {
      "cell_type": "code",
      "source": [
        "\n",
        "# Convert image to array and normalize\n",
        "img_array = np.array(img) / 255.0\n",
        "# Expand dimensions to match the input shape expected by the model\n",
        "img_array = np.expand_dims(img_array, axis=0)\n",
        "# Make prediction\n",
        "predictions = model3.predict(img_array)\n",
        "# Get the index of the highest probability\n",
        "predicted_class_index = np.argmax(predictions[0])\n",
        "# Display the predicted class\n",
        "emotion_labels = ['surprised','sad','neutral','happy','fearful','disgusted','angry']\n",
        "predicted_emotion = emotion_labels[predicted_class_index]\n",
        "print(\"Predicted emotion:\", predicted_emotion)\n"
      ],
      "metadata": {
        "id": "b2ESBgevpMMV"
      },
      "execution_count": null,
      "outputs": []
    }
  ],
  "metadata": {
    "accelerator": "GPU",
    "colab": {
      "gpuType": "T4",
      "provenance": [],
      "include_colab_link": true
    },
    "kernelspec": {
      "display_name": "Python 3",
      "name": "python3"
    },
    "language_info": {
      "name": "python"
    }
  },
  "nbformat": 4,
  "nbformat_minor": 0
}